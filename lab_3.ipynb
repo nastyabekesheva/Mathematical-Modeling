{
 "cells": [
  {
   "cell_type": "code",
   "execution_count": 4,
   "metadata": {},
   "outputs": [],
   "source": [
    "import matplotlib.pyplot as plt\n",
    "import numpy as np\n",
    "import random"
   ]
  },
  {
   "cell_type": "code",
   "execution_count": 2,
   "metadata": {},
   "outputs": [
    {
     "data": {
      "image/png": "[encoded data removed]",
      "text/plain": [
       "<Figure size 640x480 with 1 Axes>"
      ]
     },
     "metadata": {},
     "output_type": "display_data"
    }
   ],
   "source": [
    "lines_matrix = [[0,  1],\n",
    "    [1, 1],\n",
    "    [1, 1],\n",
    "    [1, 3],\n",
    "    [1, 4],\n",
    "    [3, 3],\n",
    "    [4, 4],\n",
    "    [3, 0],\n",
    "    [1.5, 2.5],\n",
    "    [2, 2],\n",
    "    [1.5, 1.5],\n",
    "    [0, 2],\n",
    "    [2.5, 2.5],\n",
    "    [0, 2]]\n",
    "\n",
    "fig, ax = plt.subplots()\n",
    "for i in range(0, len(lines_matrix), 2):\n",
    "    ax.plot(lines_matrix[i], lines_matrix[i+1], color='b')\n",
    "\n",
    "ax.set_xlim(0, 5)\n",
    "ax.set_ylim(0, 4)\n",
    "ax.set_xlabel('X-axis')\n",
    "ax.set_ylabel('Y-axis')\n",
    "\n",
    "plt.grid(True)\n",
    "plt.show()"
   ]
  },
  {
   "cell_type": "code",
   "execution_count": null,
   "metadata": {},
   "outputs": [],
   "source": [
    "total_area = 12\n",
    "N = 1000"
   ]
  },
  {
   "cell_type": "code",
   "execution_count": 19,
   "metadata": {},
   "outputs": [],
   "source": [
    "class SimpleShape: # rectangle or triangle\n",
    "    \n",
    "    def __init__(self, x_lower_bound, x_upper_bound, y_lower_bound, y_upper_bounde):\n",
    "        self.x = [x_lower_bound, x_upper_bound]\n",
    "        self.y = [y_lower_bound, y_upper_bounde]\n",
    "\n",
    "    def __repr__(self):\n",
    "        return f'x: [{self.x[0]}, {self.x[0]}]\\ny: [{self.y[0]}, {self.y[0]}]'"
   ]
  },
  {
   "cell_type": "code",
   "execution_count": 38,
   "metadata": {},
   "outputs": [],
   "source": [
    "s1 = SimpleShape(0, 1, 1, 3)\n",
    "s2 = SimpleShape(1.5, 2.5, 0, 2)"
   ]
  },
  {
   "cell_type": "code",
   "execution_count": 21,
   "metadata": {},
   "outputs": [],
   "source": [
    "def rand_point(x_lower_bound, x_upper_bound, y_lower_bound, y_upper_bound):\n",
    "    return random.uniform(x_lower_bound, x_upper_bound), random.uniform(y_lower_bound, y_upper_bound)"
   ]
  },
  {
   "cell_type": "code",
   "execution_count": 22,
   "metadata": {},
   "outputs": [],
   "source": [
    "def make_figure(n, shape):\n",
    "\n",
    "    x = np.random.uniform(shape.x[0], shape.x[1], n)\n",
    "    y = np.random.uniform(shape.y[0], shape.y[1], n)\n",
    "    \n",
    "    return x, y"
   ]
  },
  {
   "cell_type": "code",
   "execution_count": 67,
   "metadata": {},
   "outputs": [],
   "source": [
    "def monte_carlo(n, shape, x_lower_bound, x_upper_bound, y_lower_bound, y_upper_bounde):\n",
    "    \n",
    "    entry = 0\n",
    "    x_entry = []\n",
    "    y_entry = []\n",
    "    x_non_entry = []\n",
    "    y_non_entry = []\n",
    "    for _ in range(n):\n",
    "        x1, y1 = rand_point(x_lower_bound, x_upper_bound, y_lower_bound, y_upper_bounde)\n",
    "        if x1 >= shape.x[0] and x1 <= shape.x[1] and y1 >= shape.y[0] and y1 <= shape.y[1]:\n",
    "            x_entry.append(x1)\n",
    "            y_entry.append(y1)\n",
    "            entry += 1\n",
    "        else:\n",
    "            x_non_entry.append(x1)\n",
    "            y_non_entry.append(y1)\n",
    "\n",
    "    return entry, x_entry, y_entry, x_non_entry, y_non_entry  \n"
   ]
  },
  {
   "cell_type": "code",
   "execution_count": 68,
   "metadata": {},
   "outputs": [
    {
     "name": "stdout",
     "output_type": "stream",
     "text": [
      "\n",
      "\n"
     ]
    }
   ],
   "source": [
    "entry1 = monte_carlo(N, s1, 0, 4, 0, 3)\n",
    "entry2 = monte_carlo(N, s2, 0, 4, 0, 3)"
   ]
  },
  {
   "cell_type": "code",
   "execution_count": 71,
   "metadata": {},
   "outputs": [
    {
     "data": {
      "text/plain": [
       "8"
      ]
     },
     "execution_count": 71,
     "metadata": {},
     "output_type": "execute_result"
    }
   ],
   "source": [
    "x = total_area - total_area * (entry1[0]+entry2[0]) /1000\n",
    "int(x)"
   ]
  }
 ],
 "metadata": {
  "kernelspec": {
   "display_name": "base",
   "language": "python",
   "name": "python3"
  },
  "language_info": {
   "codemirror_mode": {
    "name": "ipython",
    "version": 3
   },
   "file_extension": ".py",
   "mimetype": "text/x-python",
   "name": "python",
   "nbconvert_exporter": "python",
   "pygments_lexer": "ipython3",
   "version": "3.9.13"
  },
  "orig_nbformat": 4
 },
 "nbformat": 4,
 "nbformat_minor": 2
}
