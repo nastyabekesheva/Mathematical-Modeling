{
 "cells": [
  {
   "cell_type": "markdown",
   "metadata": {},
   "source": [
    "$$z=3x_1-2x_2(\\min),$$\n",
    "$$\\left\\{\\begin{array}{c}\n",
    "2x_1+x_2\\leq14,\\\\-3x_1+2x_2\\leq9,\\\\3x_1+4x_2\\leq27,\\\\x_{1,2}\\geq0\n",
    "\\end{array}\\right.$$"
   ]
  },
  {
   "cell_type": "code",
   "execution_count": 1,
   "metadata": {},
   "outputs": [],
   "source": [
    "from scipy.optimize import linprog"
   ]
  },
  {
   "cell_type": "code",
   "execution_count": 3,
   "metadata": {},
   "outputs": [],
   "source": [
    "target = [3, -2] "
   ]
  },
  {
   "cell_type": "code",
   "execution_count": 4,
   "metadata": {},
   "outputs": [],
   "source": [
    "coefs_1 = [[2, 1],\n",
    "          [-3, 2],  \n",
    "          [3, 4]]\n",
    "\n",
    "coefs_2 = [14, 9, 27] "
   ]
  },
  {
   "cell_type": "code",
   "execution_count": null,
   "metadata": {},
   "outputs": [],
   "source": [
    "x = (0, None)\n",
    "y = (0, None)"
   ]
  },
  {
   "cell_type": "code",
   "execution_count": 9,
   "metadata": {},
   "outputs": [
    {
     "name": "stdout",
     "output_type": "stream",
     "text": [
      "Optimization terminated successfully.\n",
      "         Current function value: -9.000000   \n",
      "         Iterations: 3\n",
      "     con: array([], dtype=float64)\n",
      "     fun: -9.0\n",
      " message: 'Optimization terminated successfully.'\n",
      "     nit: 3\n",
      "   slack: array([6., 0., 0.])\n",
      "  status: 0\n",
      " success: True\n",
      "       x: array([1., 6.])\n"
     ]
    },
    {
     "name": "stderr",
     "output_type": "stream",
     "text": [
      "/var/folders/kl/jfwvxx3s68qd0pvk126hj5w40000gn/T/ipykernel_69797/425485993.py:4: DeprecationWarning: `method='simplex'` is deprecated and will be removed in SciPy 1.11.0. Please use one of the HiGHS solvers (e.g. `method='highs'`) in new code.\n",
      "  res = linprog(target, A_ub=coefs_1, b_ub=coefs_2,  bounds=(x, y), method='simplex', options={\"disp\": True})\n"
     ]
    }
   ],
   "source": [
    "res = linprog(target, A_ub=coefs_1, b_ub=coefs_2,  bounds=(x, y), method='simplex', options={\"disp\": True})  \n",
    "print(res)"
   ]
  }
 ],
 "metadata": {
  "kernelspec": {
   "display_name": "base",
   "language": "python",
   "name": "python3"
  },
  "language_info": {
   "codemirror_mode": {
    "name": "ipython",
    "version": 3
   },
   "file_extension": ".py",
   "mimetype": "text/x-python",
   "name": "python",
   "nbconvert_exporter": "python",
   "pygments_lexer": "ipython3",
   "version": "3.9.13"
  },
  "orig_nbformat": 4
 },
 "nbformat": 4,
 "nbformat_minor": 2
}
